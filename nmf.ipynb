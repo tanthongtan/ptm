{
  "nbformat": 4,
  "nbformat_minor": 0,
  "metadata": {
    "colab": {
      "name": "nmf.ipynb",
      "provenance": [],
      "collapsed_sections": [],
      "toc_visible": true,
      "mount_file_id": "1d7D21KDlIsgDCYrWfIkj5YjGoYFPxBOb",
      "authorship_tag": "ABX9TyOtIEtnkn8/MC8/P8JWWp1O",
      "include_colab_link": true
    },
    "kernelspec": {
      "name": "python3",
      "display_name": "Python 3"
    }
  },
  "cells": [
    {
      "cell_type": "markdown",
      "metadata": {
        "id": "view-in-github",
        "colab_type": "text"
      },
      "source": [
        "<a href=\"https://colab.research.google.com/github/tanthongtan/ptm/blob/master/nmf.ipynb\" target=\"_parent\"><img src=\"https://colab.research.google.com/assets/colab-badge.svg\" alt=\"Open In Colab\"/></a>"
      ]
    },
    {
      "cell_type": "code",
      "metadata": {
        "id": "XAdNth0ZgWjt",
        "colab_type": "code",
        "colab": {}
      },
      "source": [
        "num_topic = 50\n",
        "dataset = '20news'\n",
        "method = 'nmf'"
      ],
      "execution_count": 1,
      "outputs": []
    },
    {
      "cell_type": "code",
      "metadata": {
        "id": "mUb7LGAFcPrL",
        "colab_type": "code",
        "colab": {
          "base_uri": "https://localhost:8080/",
          "height": 202
        },
        "outputId": "0d836506-330c-4377-a1db-652ffe0f654a"
      },
      "source": [
        "#only for google colab\n",
        "import sys\n",
        "import os\n",
        "if 'google.colab' in sys.modules:\n",
        "    #lets see what gpu we were given\n",
        "    !nvidia-smi\n",
        "    #get repository\n",
        "    !git clone https://github.com/tanthongtan/ptm.git\n",
        "    %cd '/content/ptm'\n",
        "    #get ref corp if doesn't exist\n",
        "    if not os.path.isdir('wiki_final'):\n",
        "        !unzip -q \"/content/drive/My Drive/wiki_final.zip\""
      ],
      "execution_count": 2,
      "outputs": [
        {
          "output_type": "stream",
          "text": [
            "NVIDIA-SMI has failed because it couldn't communicate with the NVIDIA driver. Make sure that the latest NVIDIA driver is installed and running.\n",
            "\n",
            "Cloning into 'ptm'...\n",
            "remote: Enumerating objects: 44, done.\u001b[K\n",
            "remote: Counting objects: 100% (44/44), done.\u001b[K\n",
            "remote: Compressing objects: 100% (38/38), done.\u001b[K\n",
            "remote: Total 320 (delta 20), reused 23 (delta 6), pack-reused 276\u001b[K\n",
            "Receiving objects: 100% (320/320), 257.43 MiB | 27.23 MiB/s, done.\n",
            "Resolving deltas: 100% (152/152), done.\n",
            "Checking out files: 100% (30/30), done.\n",
            "/content/ptm\n"
          ],
          "name": "stdout"
        }
      ]
    },
    {
      "cell_type": "code",
      "metadata": {
        "id": "wdT61E3wiw30",
        "colab_type": "code",
        "colab": {
          "base_uri": "https://localhost:8080/",
          "height": 1000
        },
        "outputId": "11cc9579-9a36-40ed-dcfb-f7f0eb96c639"
      },
      "source": [
        "from dataset import load_data\n",
        "from time import time\n",
        "from sklearn.decomposition import NMF\n",
        "from utils import get_topics, print_summary, clustering_metrics_20news\n",
        "\n",
        "data_tr, data_te, vocab, vocab_size, num_tr = load_data(use_tfidf=True, normalize=True, dataset=dataset)\n",
        "t0 = time()\n",
        "nmf = NMF(n_components=num_topic, alpha=.1, l1_ratio=.5)\n",
        "pi = nmf.fit_transform(data_tr)\n",
        "print(\"done in %0.3fs.\" % (time() - t0))\n",
        "\n",
        "topics = get_topics(nmf.components_, vocab)\n",
        "print_summary(topics,method,dataset)\n",
        "\n",
        "if dataset == '20news':\n",
        "    clustering_metrics_20news(pi)"
      ],
      "execution_count": 3,
      "outputs": [
        {
          "output_type": "stream",
          "text": [
            "Dim Training Data (11267, 5000)\n",
            "Dim Test Data (7502, 5000)\n",
            "done in 12.281s.\n",
            "\n",
            "Method  = nmf\n",
            "Number of topics = 50\n",
            "Dataset = 20news \n",
            "\n",
            " NPMI       TU         Topic\n",
            " 0.06127    0.68333    like know think time good way right want new going\n",
            " 0.16610    0.75000    windows dos ms nt os win microsoft running run version\n",
            " 0.10169    0.90000    god believe faith bible existence atheism hell truth atheists exist\n",
            " 0.07951    0.90000    key keys bit escrow bits pgp public des chip encrypted\n",
            " 0.17010    0.85000    game team games hockey players play season nhl teams win\n",
            " 0.19834    0.86667    drive disk drives hard floppy boot cd controller hd ide\n",
            " 0.01185    0.85000    people government militia think rights country religion right death society\n",
            " 0.02072    0.69000    edu article writes apr cs cc cwru au rutgers cmu\n",
            " 0.02089    0.83333    thanks advance hi know info appreciated email looking help anybody\n",
            " 0.01543    0.69000    com writes article netcom apr att ibm cb tek portal\n",
            " 0.16022    0.90000    space nasa gov moon shuttle jpl launch orbit jsc earth\n",
            " 0.22975    0.95000    israel israeli jews arab arabs lebanese lebanon peace jewish israelis\n",
            " 0.14036    0.75000    card video cards ati vga pc graphics vesa mode nubus\n",
            " 0.17563    1.00000    armenian turkish armenians armenia turks turkey genocide soviet argic greek\n",
            " 0.01747    0.90000    window manager expose application display event xterm handler position button\n",
            " 0.01882    0.85000    sale offer shipping price condition new asking best interested email\n",
            " 0.00292    1.00000    pitt geb gordon banks jxp cadre chastity shameful skepticism intellect\n",
            " 0.14998    0.90000    printer print fonts font laser printers postscript deskjet ink bj\n",
            " 0.02472    0.76500    ca bnr canada bc writes sfu article uwo apr ontario\n",
            " 0.06777    1.00000    car cars engine dealer miles insurance front oil tires mph\n",
            " 0.03189    1.00000    objective morality keith moral livesey frank values jon caltech sgi\n",
            " 0.15181    0.87500    file files directory format bmp ftp gif swap convert zip\n",
            " 0.00211    0.85833    sandvik apple kent newton alink com activities cheers private net\n",
            " 0.11520    0.60000    scsi ide controller mb devices bus pc isa esdi os\n",
            " 0.00794    0.79000    uk ac ed dcs article tel writes nz demon mantis\n",
            " 0.01736    0.77500    drivers driver ftp diamond version latest gateway site ati bbs\n",
            " 0.01339    0.76500    uiuc cso edu uxa news ux irvine writes cobb article\n",
            " 0.03733    0.85000    system computer phone quote systems sorry means problem gateway say\n",
            " 0.03081    1.00000    georgia uga michael covington mcovingt ai athens artificial amateur gatech\n",
            " 0.12837    0.95000    mb simms ram memory simm ns meg vram pin motherboard\n",
            " 0.01617    1.00000    fbi koresh fire batf compound roby udel children gas tear\n",
            " 0.10438    0.90000    modem port serial irq ports baud bis internal modems fax\n",
            " 0.17396    0.78333    jesus christian christ christians bible church faith christianity law jews\n",
            " 0.11691    0.93333    gun guns firearms weapons crime criminals control police law handgun\n",
            " 0.01719    0.70833    program called ftp programs know help run files xlib domain\n",
            " 0.04081    1.00000    msg food chinese foods dyer taste reaction eat effects brain\n",
            " 0.01078    0.77500    henry toronto zoo spencer work man edu orbit launch lunar\n",
            " 0.06066    0.78333    mouse keyboard irq motion microsoft sys button click loaded bus\n",
            " 0.03787    0.85000    year alomar season hit good better old average games hitter\n",
            " 0.09111    1.00000    cramer men optilink homosexual gay clayton sexual male sex partners\n",
            " 0.12491    0.73333    monitor color screen vga colors monitors video display problem apple\n",
            " 0.01504    0.85000    ohio state magnus acs drugs edu ryan care health apr\n",
            " 0.02737    0.90000    use work using used want device uses drug need context\n",
            " 0.11694    0.82500    graphics software code motif server image package data available ftp\n",
            " 0.10514    0.93333    mac apple se fpu lc quadra ii buy macintosh iisi\n",
            " 0.04522    0.82500    hp col ink deskjet sr com hewlett packard apollo fc\n",
            " 0.10814    0.85000    mail address list send fax phone mailing internet interested post\n",
            " 0.06655    0.78333    encryption chip clipper government privacy law escrow secure enforcement nsa\n",
            " 0.08628    0.75000    mhz bus speed dx clock isa vlb cpu controller ide\n",
            " 0.00226    0.82500    sun east ed green central server eng biker openwindows com\n",
            "\n",
            "Mean NPMI = 0.0747488\n",
            "Mean TU   = 0.85 \n",
            "\n",
            "                NMI:   0.3904\n",
            "Adjusted RAND index:   0.1858\n",
            "        Adjusted MI:   0.3825\n",
            "            Fowlkes:   0.2233\n",
            "        Homogeneity:   0.4332\n"
          ],
          "name": "stdout"
        }
      ]
    }
  ]
}