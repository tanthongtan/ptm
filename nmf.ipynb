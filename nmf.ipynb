{
  "nbformat": 4,
  "nbformat_minor": 0,
  "metadata": {
    "colab": {
      "name": "nmf.ipynb",
      "provenance": [],
      "collapsed_sections": [],
      "authorship_tag": "ABX9TyOOHAd+Zyq90WjW8JjgLnuL",
      "include_colab_link": true
    },
    "kernelspec": {
      "name": "python3",
      "display_name": "Python 3"
    }
  },
  "cells": [
    {
      "cell_type": "markdown",
      "metadata": {
        "id": "view-in-github",
        "colab_type": "text"
      },
      "source": [
        "<a href=\"https://colab.research.google.com/github/tanthongtan/ptm/blob/master/nmf.ipynb\" target=\"_parent\"><img src=\"https://colab.research.google.com/assets/colab-badge.svg\" alt=\"Open In Colab\"/></a>"
      ]
    },
    {
      "cell_type": "code",
      "metadata": {
        "id": "XAdNth0ZgWjt",
        "colab_type": "code",
        "colab": {}
      },
      "source": [
        "num_topic = 50\n",
        "dataset = '20news'"
      ],
      "execution_count": 1,
      "outputs": []
    },
    {
      "cell_type": "code",
      "metadata": {
        "id": "mUb7LGAFcPrL",
        "colab_type": "code",
        "colab": {
          "base_uri": "https://localhost:8080/",
          "height": 269
        },
        "outputId": "51d8a0b7-bdd5-44a4-c2bb-6d910b4d5390"
      },
      "source": [
        "#only for google colab\n",
        "import sys\n",
        "import os\n",
        "if 'google.colab' in sys.modules:\n",
        "    #lets see what gpu we were given\n",
        "    !nvidia-smi\n",
        "    #get repository\n",
        "    !git clone https://github.com/tanthongtan/ptm.git\n",
        "    %cd '/content/ptm'\n",
        "    #get ref corp if doesn't exist\n",
        "    if not os.path.isfile('wiki_final.zip'):\n",
        "        !gdown https://drive.google.com/uc?id=1y1G_Hw8CpHPCzVFKxsrCokWsS7iZgi8K\n",
        "        !unzip -q wiki_final.zip"
      ],
      "execution_count": 2,
      "outputs": [
        {
          "output_type": "stream",
          "text": [
            "NVIDIA-SMI has failed because it couldn't communicate with the NVIDIA driver. Make sure that the latest NVIDIA driver is installed and running.\n",
            "\n",
            "Cloning into 'ptm'...\n",
            "remote: Enumerating objects: 20, done.\u001b[K\n",
            "remote: Counting objects: 100% (20/20), done.\u001b[K\n",
            "remote: Compressing objects: 100% (17/17), done.\u001b[K\n",
            "remote: Total 296 (delta 7), reused 14 (delta 3), pack-reused 276\u001b[K\n",
            "Receiving objects: 100% (296/296), 257.40 MiB | 28.45 MiB/s, done.\n",
            "Resolving deltas: 100% (139/139), done.\n",
            "Checking out files: 100% (27/27), done.\n",
            "/content/ptm\n",
            "Downloading...\n",
            "From: https://drive.google.com/uc?id=1y1G_Hw8CpHPCzVFKxsrCokWsS7iZgi8K\n",
            "To: /content/ptm/wiki_final.zip\n",
            "4.92GB [00:47, 103MB/s] \n"
          ],
          "name": "stdout"
        }
      ]
    },
    {
      "cell_type": "code",
      "metadata": {
        "id": "wdT61E3wiw30",
        "colab_type": "code",
        "colab": {
          "base_uri": "https://localhost:8080/",
          "height": 1000
        },
        "outputId": "633fe33a-22fe-42f8-d5a2-0dfdd9f72058"
      },
      "source": [
        "from dataset import load_data\n",
        "from time import time\n",
        "from sklearn.decomposition import NMF\n",
        "from utils import get_topics, print_summary\n",
        "\n",
        "data_tr, data_te, vocab, vocab_size, num_tr = load_data(use_tfidf=True, normalize=True, dataset=dataset)\n",
        "t0 = time()\n",
        "nmf = NMF(n_components=num_topic,\n",
        "          alpha=.1, l1_ratio=.5).fit(data_tr)\n",
        "print(\"done in %0.3fs.\" % (time() - t0))\n",
        "\n",
        "topics = get_topics(nmf.components_, vocab)\n",
        "print_summary(topics,'nmf',dataset)"
      ],
      "execution_count": 3,
      "outputs": [
        {
          "output_type": "stream",
          "text": [
            "Dim Training Data (11267, 5000)\n",
            "Dim Test Data (7502, 5000)\n",
            "done in 16.944s.\n",
            "\n",
            "Method  = nmf\n",
            "Number of topics = 50\n",
            "Dataset = 20news \n",
            "\n",
            " NPMI       TU         Topic\n",
            " 0.08913    0.93333    people like think know time good way right say want\n",
            " 0.16610    0.70000    windows dos ms nt os win microsoft running run version\n",
            " 0.20606    1.00000    god jesus bible faith christ christian christians believe church heaven\n",
            " 0.06486    0.83333    key keys bit escrow bits pgp public des chip system\n",
            " 0.18813    0.95000    team players hockey nhl play teams league player cup rangers\n",
            " 0.12837    0.95000    mb simms ram memory simm ns meg vram pin motherboard\n",
            " 0.01617    1.00000    fbi koresh batf fire compound roby udel gas children tear\n",
            " 0.02072    0.64000    edu article writes apr cs cc cwru au rutgers cmu\n",
            " 0.02089    0.83333    thanks advance hi know info looking email appreciated anybody help\n",
            " 0.02338    0.62000    com article writes netcom apr att ibm hp sun tek\n",
            " 0.16022    0.90000    space nasa gov moon shuttle orbit jpl launch jsc earth\n",
            " 0.22975    1.00000    israel israeli jews arab arabs lebanese jewish lebanon peace israelis\n",
            " 0.09252    0.73333    card video cards ati vga pc mode nubus vesa vlb\n",
            " 0.17403    1.00000    armenian turkish armenians armenia turks turkey genocide soviet argic extermination\n",
            " 0.08482    0.88333    use software server motif using code data sun system available\n",
            " 0.03436    0.85000    sale offer shipping condition price asking best interested email sell\n",
            " 0.00292    1.00000    pitt geb gordon banks jxp cadre chastity shameful skepticism intellect\n",
            " 0.01274    0.90000    window manager expose application event display handler position button size\n",
            " 0.11691    0.95000    gun guns firearms weapons crime criminals control police law handgun\n",
            " 0.06873    0.95000    car cars engine dealer miles insurance oil front tires speed\n",
            " 0.01113    0.72000    ca bnr canada bc writes article sfu uwo apr cs\n",
            " 0.15181    0.88333    file files directory ftp format bmp gif convert zip swap\n",
            " 0.00211    0.88333    sandvik apple kent newton alink com activities cheers private net\n",
            " 0.19834    0.86667    drive disk drives hard floppy boot cd controller hd ide\n",
            " 0.00794    0.84500    uk ac ed dcs article writes tel nz demon mantis\n",
            " 0.03146    0.76667    drivers driver ftp diamond version latest site gateway ati windows\n",
            " 0.00248    0.84000    uiuc cso edu uxa news ux irvine writes cobb electric\n",
            " 0.00802    0.88333    keith moral livesey caltech system morality jon sgi wpd solntze\n",
            " 0.04877    1.00000    georgia uga michael covington mcovingt ai athens artificial amateur intelligence\n",
            " 0.08628    0.65000    mhz bus speed dx clock isa vlb cpu controller ide\n",
            " 0.11520    0.60000    scsi ide controller mb devices bus pc isa esdi os\n",
            " 0.02335    0.95000    new york brand gm witnesses price trial old university jersey\n",
            " 0.01078    0.82000    henry toronto zoo spencer work man edu orbit lunar launch\n",
            " 0.10514    0.93333    mac apple se fpu lc quadra ii buy macintosh iisi\n",
            " 0.09111    1.00000    cramer men optilink homosexual gay clayton sexual male sex partners\n",
            " 0.04081    0.95000    msg food chinese foods dyer taste reaction eat effects brain\n",
            " 0.08427    0.90000    game espn leafs games wings detroit baseball night goal ice\n",
            " 0.06066    0.78333    mouse keyboard irq motion microsoft sys button click loaded bus\n",
            " 0.09508    1.00000    bike dod ride bikes motorcycle riding dog behanna bmw nec\n",
            " 0.12072    0.80000    year games team season pitching runs win baseball braves hit\n",
            " 0.01719    0.71667    program ftp called know programs help run files domain xlib\n",
            " 0.06655    0.85000    encryption chip clipper government privacy escrow law secure enforcement nsa\n",
            " 0.14217    0.95000    hp printer print laser ink printers deskjet bj fonts postscript\n",
            " 0.12491    0.78333    monitor color screen vga colors monitors video display problem apple\n",
            " 0.01650    0.70333    pro bu uucp internet uunet edu jaeger ati brain ultra\n",
            " 0.10814    0.85000    mail address list send fax phone mailing interested internet post\n",
            " 0.02961    1.00000    graphics comp group aspects split umich algorithms groups newsgroup package\n",
            " 0.10438    0.90000    modem port serial irq ports baud bis internal modems fax\n",
            " 0.01504    0.84500    ohio state magnus acs drugs edu ryan care health apr\n",
            " 0.03179    0.90000    objective frank values morality dwyer science sni subjective ap uucp\n",
            "\n",
            "Mean NPMI = 0.077051\n",
            "Mean TU   = 0.864\n"
          ],
          "name": "stdout"
        }
      ]
    }
  ]
}