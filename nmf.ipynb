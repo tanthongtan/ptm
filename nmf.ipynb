{
  "nbformat": 4,
  "nbformat_minor": 0,
  "metadata": {
    "colab": {
      "name": "nmf.ipynb",
      "provenance": [],
      "collapsed_sections": [],
      "toc_visible": true,
      "mount_file_id": "1xE3Fv2eJoDveOgaqG7_dNyfIO4BLMcXK",
      "authorship_tag": "ABX9TyMwUxfRK+bP/692wqT+nW3O",
      "include_colab_link": true
    },
    "kernelspec": {
      "name": "python3",
      "display_name": "Python 3"
    }
  },
  "cells": [
    {
      "cell_type": "markdown",
      "metadata": {
        "id": "view-in-github",
        "colab_type": "text"
      },
      "source": [
        "<a href=\"https://colab.research.google.com/github/tanthongtan/ptm/blob/master/nmf.ipynb\" target=\"_parent\"><img src=\"https://colab.research.google.com/assets/colab-badge.svg\" alt=\"Open In Colab\"/></a>"
      ]
    },
    {
      "cell_type": "code",
      "metadata": {
        "id": "XAdNth0ZgWjt",
        "colab_type": "code",
        "colab": {}
      },
      "source": [
        "num_topic = 50\n",
        "dataset = '20news'"
      ],
      "execution_count": 1,
      "outputs": []
    },
    {
      "cell_type": "code",
      "metadata": {
        "id": "mUb7LGAFcPrL",
        "colab_type": "code",
        "colab": {
          "base_uri": "https://localhost:8080/",
          "height": 202
        },
        "outputId": "d1a0f0a9-6b4e-4937-af38-37ad4645b31e"
      },
      "source": [
        "#only for google colab\n",
        "import sys\n",
        "import os\n",
        "import time\n",
        "if 'google.colab' in sys.modules:\n",
        "    #lets see what gpu we were given\n",
        "    !nvidia-smi\n",
        "    #get repository\n",
        "    !git clone https://github.com/tanthongtan/ptm.git\n",
        "    %cd '/content/ptm'\n",
        "    #get ref corp if doesn't exist\n",
        "    if not os.path.isdir('wiki_final'):\n",
        "        !unzip -q \"/content/drive/My Drive/wiki_final.zip\""
      ],
      "execution_count": 2,
      "outputs": [
        {
          "output_type": "stream",
          "text": [
            "NVIDIA-SMI has failed because it couldn't communicate with the NVIDIA driver. Make sure that the latest NVIDIA driver is installed and running.\n",
            "\n",
            "Cloning into 'ptm'...\n",
            "remote: Enumerating objects: 23, done.\u001b[K\n",
            "remote: Counting objects: 100% (23/23), done.\u001b[K\n",
            "remote: Compressing objects: 100% (20/20), done.\u001b[K\n",
            "remote: Total 299 (delta 8), reused 14 (delta 3), pack-reused 276\u001b[K\n",
            "Receiving objects: 100% (299/299), 257.40 MiB | 13.96 MiB/s, done.\n",
            "Resolving deltas: 100% (140/140), done.\n",
            "Checking out files: 100% (28/28), done.\n",
            "/content/ptm\n"
          ],
          "name": "stdout"
        }
      ]
    },
    {
      "cell_type": "code",
      "metadata": {
        "id": "wdT61E3wiw30",
        "colab_type": "code",
        "colab": {
          "base_uri": "https://localhost:8080/",
          "height": 1000
        },
        "outputId": "6ad77ccd-8e95-4d5a-8477-d3cf13d9ddc0"
      },
      "source": [
        "from dataset import load_data\n",
        "from time import time\n",
        "from sklearn.decomposition import NMF\n",
        "from utils import get_topics, print_summary\n",
        "\n",
        "data_tr, data_te, vocab, vocab_size, num_tr = load_data(use_tfidf=True, normalize=True, dataset=dataset)\n",
        "t0 = time()\n",
        "nmf = NMF(n_components=num_topic,\n",
        "          alpha=.1, l1_ratio=.5).fit(data_tr)\n",
        "print(\"done in %0.3fs.\" % (time() - t0))\n",
        "\n",
        "topics = get_topics(nmf.components_, vocab)\n",
        "print_summary(topics,'nmf',dataset)"
      ],
      "execution_count": 3,
      "outputs": [
        {
          "output_type": "stream",
          "text": [
            "Dim Training Data (11267, 5000)\n",
            "Dim Test Data (7502, 5000)\n",
            "done in 18.222s.\n",
            "\n",
            "Method  = nmf\n",
            "Number of topics = 50\n",
            "Dataset = 20news \n",
            "\n",
            " NPMI       TU         Topic\n",
            " 0.08913    0.93333    people like think know time good way right want say\n",
            " 0.16610    0.75000    windows dos ms nt os win microsoft running run version\n",
            " 0.10169    0.90000    god believe faith bible existence atheism hell truth atheists exist\n",
            " 0.07951    0.90000    key keys bit escrow bits pgp public des chip encrypted\n",
            " 0.14031    0.95000    game team games players hockey year season play win league\n",
            " 0.11520    0.59167    scsi ide controller mb devices bus pc isa esdi os\n",
            " 0.05905    0.83333    encryption chip clipper government privacy escrow law secure enforcement crypto\n",
            " 0.02072    0.69833    edu article writes apr cs cc cwru au rutgers cmu\n",
            " 0.02089    0.78333    thanks advance hi know info email looking appreciated help anybody\n",
            " 0.01979    0.66167    com writes article netcom apr att ibm sun tek portal\n",
            " 0.16022    0.90000    space nasa gov moon shuttle jpl orbit launch jsc earth\n",
            " 0.22975    0.95000    israel israeli jews arab arabs lebanese lebanon peace jewish israelis\n",
            " 0.10323    0.70833    card video cards ati vga pc mode vesa nubus bus\n",
            " 0.17403    1.00000    armenian turkish armenians armenia turks turkey genocide soviet argic extermination\n",
            " 0.01274    0.85000    window manager expose application event handler position display button size\n",
            " 0.01882    0.90000    sale offer shipping price new condition asking interested best email\n",
            " 0.00292    1.00000    pitt geb gordon banks jxp cadre chastity shameful skepticism intellect\n",
            " 0.14998    0.90000    printer print fonts laser font printers postscript deskjet ink bj\n",
            " 0.11691    0.93333    gun guns firearms weapons crime criminals control police law handgun\n",
            " 0.06873    0.95000    car cars engine dealer miles insurance oil front tires speed\n",
            " 0.03189    1.00000    objective morality keith moral livesey frank values jon caltech sgi\n",
            " 0.15181    0.88333    file files directory format ftp bmp gif convert zip swap\n",
            " 0.00211    0.86667    sandvik apple kent newton alink com activities cheers private net\n",
            " 0.19834    0.86667    drive disk drives hard floppy boot cd controller hd ide\n",
            " 0.00794    0.84500    uk ac ed dcs article writes tel nz demon mantis\n",
            " 0.01736    0.76667    drivers driver ftp diamond version latest site gateway ati bbs\n",
            " 0.00606    0.87000    wpi stratus cdt sw electric irvine edu vos investors supreme\n",
            " 0.01395    0.79000    uiuc cso edu uxa news ux writes irvine cobb illinois\n",
            " 0.03081    1.00000    georgia uga michael covington mcovingt ai athens artificial amateur gatech\n",
            " 0.12837    0.95000    mb simms ram memory simm ns meg vram pin motherboard\n",
            " 0.01617    1.00000    fbi koresh batf fire compound roby udel gas children tear\n",
            " 0.10438    0.90000    modem port serial irq ports baud bis internal modems fax\n",
            " 0.01078    0.82000    henry toronto zoo spencer work man edu orbit lunar launch\n",
            " 0.04081    0.95000    msg food chinese foods dyer taste reaction eat effects brain\n",
            " 0.10689    0.93333    mac apple se fpu lc quadra ii buy macintosh hardware\n",
            " 0.02472    0.95000    list mailing marc request add lists faq motif nist cactus\n",
            " 0.09111    1.00000    cramer men optilink homosexual gay clayton sexual male sex partners\n",
            " 0.06066    0.77500    mouse keyboard irq motion microsoft sys button click loaded bus\n",
            " 0.09508    1.00000    bike dod ride bikes motorcycle riding dog behanna bmw nec\n",
            " 0.08628    0.69167    mhz bus speed dx clock isa vlb cpu controller ide\n",
            " 0.17396    0.78333    jesus christian christ christians bible church faith christianity law jews\n",
            " 0.02961    1.00000    graphics comp group aspects split umich algorithms groups newsgroup package\n",
            " 0.04522    0.83333    hp col ink deskjet sr com hewlett packard apollo fc\n",
            " 0.00677    0.77833    ca bnr canada bc sfu writes article uwo apr maynard\n",
            " 0.12491    0.73333    monitor color screen vga colors monitors video display problem apple\n",
            " 0.03911    0.80000    system computer phone quote systems sorry means use problem gateway\n",
            " 0.09404    0.80000    server use software motif using code sun data application available\n",
            " 0.01650    0.75333    pro bu uucp internet uunet edu jaeger ati brain ultra\n",
            " 0.06829    0.75000    mail address fax phone send internet interested looking university reply\n",
            " 0.02133    0.71667    program ftp called know programs help run files domain appreciate\n",
            "\n",
            "Mean NPMI = 0.0738996\n",
            "Mean TU   = 0.858\n"
          ],
          "name": "stdout"
        }
      ]
    }
  ]
}